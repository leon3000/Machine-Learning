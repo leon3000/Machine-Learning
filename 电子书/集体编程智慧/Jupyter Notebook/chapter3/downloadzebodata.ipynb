{
 "cells": [
  {
   "cell_type": "code",
   "execution_count": 1,
   "metadata": {},
   "outputs": [
    {
     "name": "stderr",
     "output_type": "stream",
     "text": [
      "Traceback (most recent call last):\n",
      "  File \"downloadzebodata.py\", line 1, in <module>\n",
      "    from BeautifulSoup import BeautifulSoup\n",
      "ImportError: No module named BeautifulSoup\n"
     ]
    }
   ],
   "source": [
    "import \n",
    "!python downloadzebodata.py"
   ]
  },
  {
   "cell_type": "code",
   "execution_count": 7,
   "metadata": {},
   "outputs": [
    {
     "ename": "ImportError",
     "evalue": "No module named beautifulsoup",
     "output_type": "error",
     "traceback": [
      "\u001b[1;31m---------------------------------------------------------------------------\u001b[0m",
      "\u001b[1;31mImportError\u001b[0m                               Traceback (most recent call last)",
      "\u001b[1;32m<ipython-input-7-c4009280cad5>\u001b[0m in \u001b[0;36m<module>\u001b[1;34m()\u001b[0m\n\u001b[1;32m----> 1\u001b[1;33m \u001b[1;32mfrom\u001b[0m \u001b[0mbeautifulsoup\u001b[0m \u001b[1;32mimport\u001b[0m \u001b[1;33m*\u001b[0m\u001b[1;33m\u001b[0m\u001b[0m\n\u001b[0m",
      "\u001b[1;31mImportError\u001b[0m: No module named beautifulsoup"
     ]
    }
   ],
   "source": [
    "from beautifulsoup import *"
   ]
  },
  {
   "cell_type": "code",
   "execution_count": 10,
   "metadata": {},
   "outputs": [
    {
     "name": "stderr",
     "output_type": "stream",
     "text": [
      "Traceback (most recent call last):\n",
      "  File \"downloadzebodata.py\", line 15, in <module>\n",
      "    % (i))\n",
      "  File \"C:\\ProgramData\\Anaconda2\\lib\\urllib2.py\", line 154, in urlopen\n",
      "    return opener.open(url, data, timeout)\n",
      "  File \"C:\\ProgramData\\Anaconda2\\lib\\urllib2.py\", line 435, in open\n",
      "    response = meth(req, response)\n",
      "  File \"C:\\ProgramData\\Anaconda2\\lib\\urllib2.py\", line 548, in http_response\n",
      "    'http', request, response, code, msg, hdrs)\n",
      "  File \"C:\\ProgramData\\Anaconda2\\lib\\urllib2.py\", line 473, in error\n",
      "    return self._call_chain(*args)\n",
      "  File \"C:\\ProgramData\\Anaconda2\\lib\\urllib2.py\", line 407, in _call_chain\n",
      "    result = func(*args)\n",
      "  File \"C:\\ProgramData\\Anaconda2\\lib\\urllib2.py\", line 556, in http_error_default\n",
      "    raise HTTPError(req.get_full_url(), code, msg, hdrs, fp)\n",
      "urllib2.HTTPError: HTTP Error 500: Internal Privoxy Error\n"
     ]
    }
   ],
   "source": [
    "from bs4 import BeautifulSoup\n",
    "!python downloadzebodata.py"
   ]
  },
  {
   "cell_type": "code",
   "execution_count": null,
   "metadata": {
    "collapsed": true
   },
   "outputs": [],
   "source": []
  }
 ],
 "metadata": {
  "kernelspec": {
   "display_name": "Python 2",
   "language": "python",
   "name": "python2"
  },
  "language_info": {
   "codemirror_mode": {
    "name": "ipython",
    "version": 2
   },
   "file_extension": ".py",
   "mimetype": "text/x-python",
   "name": "python",
   "nbconvert_exporter": "python",
   "pygments_lexer": "ipython2",
   "version": "2.7.13"
  }
 },
 "nbformat": 4,
 "nbformat_minor": 2
}
